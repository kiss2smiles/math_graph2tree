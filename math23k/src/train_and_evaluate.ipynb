{
 "cells": [
  {
   "cell_type": "markdown",
   "metadata": {},
   "source": [
    "```\n",
    "def train_tree():\n",
    "   ...\n",
    "   # input_var:   [seq_len, batch_size]\n",
    "   # input_length: [batch_size]\n",
    "   # batch_graph:  [batch_size, 5, seq_len, seq_len]\n",
    "   encoder_outputs, problem_output = encoder(input_seqs=input_var,\n",
    "                               input_lengths=input_length,\n",
    "                               batch_graph=batch_graph)\n",
    "   # encoder_outputs: [seq_len, batch_size, hidden_size]\n",
    "   # problem_output:  [     , batch_size, hidden_size]\n",
    "```\n",
    "\n"
   ]
  },
  {
   "cell_type": "markdown",
   "metadata": {},
   "source": [
    "encoder\\_outputs: graph representation $Z_{g}$\n",
    "\n",
    "problem\\_output:  root node $n_{0}$ goal vector $q_{0}$"
   ]
  }
 ],
 "metadata": {
  "kernelspec": {
   "display_name": "Python 3",
   "language": "python",
   "name": "python3"
  },
  "language_info": {
   "codemirror_mode": {
    "name": "ipython",
    "version": 3
   },
   "file_extension": ".py",
   "mimetype": "text/x-python",
   "name": "python",
   "nbconvert_exporter": "python",
   "pygments_lexer": "ipython3",
   "version": "3.7.6"
  }
 },
 "nbformat": 4,
 "nbformat_minor": 4
}
