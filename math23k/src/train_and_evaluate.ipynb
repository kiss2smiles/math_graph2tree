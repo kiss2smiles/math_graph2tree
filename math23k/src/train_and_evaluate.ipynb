{
 "cells": [
  {
   "cell_type": "markdown",
   "metadata": {},
   "source": [
    "#### CODE ANALYSIS"
   ]
  },
  {
   "cell_type": "code",
   "execution_count": null,
   "metadata": {},
   "outputs": [],
   "source": [
    "def train_tree():\n",
    "   ...\n",
    "   # input_var:   [seq_len, batch_size]\n",
    "   # input_length: [batch_size]\n",
    "   # batch_graph:  [batch_size, 5, seq_len, seq_len]\n",
    "   encoder_outputs, problem_output = encoder(input_seqs=input_var,\n",
    "                                             input_lengths=input_length,\n",
    "                                             batch_graph=batch_graph)\n",
    "   # encoder_outputs: [seq_len, batch_size, hidden_size]\n",
    "   # problem_output:  [         batch_size, hidden_size]"
   ]
  },
  {
   "cell_type": "markdown",
   "metadata": {},
   "source": [
    "**encoder\\_outputs**: graph representation $Z_{g}$\n",
    "\n",
    "**problem\\_output**:  root node $n_{0}$ goal vector $q_{0}$"
   ]
  },
  {
   "cell_type": "code",
   "execution_count": null,
   "metadata": {},
   "outputs": [],
   "source": [
    "def train_tree():\n",
    "    ...\n",
    "    node_stacks       = [[TreeNode(embedding=_, left_flag=False)] for _ in problem_output.split(1, dim=0)]  # [1, hidden_size]\n",
    "    embeddings_stacks = [[] for _ in range(batch_size)]\n",
    "    left_childs       = [None for _ in range(batch_size)]"
   ]
  },
  {
   "cell_type": "markdown",
   "metadata": {},
   "source": [
    "**node\\_stacks**: TreeNode(embedding, left\\_flag), 记录节点node中的 goal vector $q$  \n",
    "初始根节点 $n_{0}$ 为 goal vector $q_{0}$ = problem_output  \n",
    "  \n",
    "**embedding\\_stacks**: TreeEmbedding, 记录节点node之前的节点的subtree embedding $t$(list)  \n",
    "如果为操作符(非叶子节点),此时embedding\\_stacks添加operator的token embedding $e(y|P)$，并设置terminal=False  \n",
    "如果为操作数(左孩子节点),此时embedding\\_stacks添加operator的token embedding $e(y|P)$，并设置terminal=True  \n",
    "如果为操作数(右孩子节点),此时  \n",
    "&emsp;&emsp;初始化右孩子节点的subtree embedding $t_{r}$ 为token embedding $e(y|P)$  \n",
    "&emsp;&emsp;弹出左孩子节点(terminal=True)的subtree embedding $t_{l}$和根节点的subtree embedding $t$(parent t)  \n",
    "&emsp;&emsp;循环完成merge操作, 得到右孩子节点的最终subtree embedding $t_{r}$，并设置terminal=True  \n",
    "\n",
    "**left\\_childs**: 记录节点node中当前节点的subtree embedding $t$  \n",
    "如果为操作符(非叶子节点),此时left\\_childs输出为None  \n",
    "如果为操作数(左孩子节点),此时left\\_childs输出为左孩子节点的subtree embedding $t_l$  \n",
    "如果为操作数(右孩子节点),此时left\\_childs输出为右孩子节点的subtree embedding $t_r$    "
   ]
  }
 ],
 "metadata": {
  "kernelspec": {
   "display_name": "Python 3",
   "language": "python",
   "name": "python3"
  },
  "language_info": {
   "codemirror_mode": {
    "name": "ipython",
    "version": 3
   },
   "file_extension": ".py",
   "mimetype": "text/x-python",
   "name": "python",
   "nbconvert_exporter": "python",
   "pygments_lexer": "ipython3",
   "version": "3.7.6"
  }
 },
 "nbformat": 4,
 "nbformat_minor": 4
}
