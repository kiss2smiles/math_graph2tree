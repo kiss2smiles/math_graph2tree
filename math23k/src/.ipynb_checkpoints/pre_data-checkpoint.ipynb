{
 "cells": [
  {
   "cell_type": "code",
   "execution_count": 2,
   "metadata": {},
   "outputs": [
    {
     "name": "stdout",
     "output_type": "stream",
     "text": [
      "cur_dir =  C:\\Users\\90311\\Documents\\code\\MWP\\math_graph2tree\\math23k\\src\n",
      "par_dir =  C:\\Users\\90311\\Documents\\code\\MWP\\math_graph2tree\\math23k\n",
      "gra_dir =  C:\\Users\\90311\\Documents\\code\\MWP\\math_graph2tree\n"
     ]
    }
   ],
   "source": [
    "import json\n",
    "import os\n",
    "import sys\n",
    "\n",
    "cur_path = os.path.abspath('__file__')\n",
    "cur_dir  = os.path.dirname(cur_path)\n",
    "par_dir  = os.path.dirname(cur_dir)\n",
    "gra_dir  = os.path.dirname(par_dir)\n",
    "sys.path.append(cur_dir)\n",
    "sys.path.append(par_dir)\n",
    "sys.path.append(gra_dir)\n",
    "\n",
    "print(\"cur_dir = \", cur_dir)\n",
    "print(\"par_dir = \", par_dir)\n",
    "print(\"gra_dir = \", gra_dir)"
   ]
  },
  {
   "cell_type": "code",
   "execution_count": 3,
   "metadata": {},
   "outputs": [
    {
     "name": "stdout",
     "output_type": "stream",
     "text": [
      "data_path =  C:\\Users\\90311\\Documents\\code\\MWP\\math_graph2tree\\math23k\\data\\test23k_processed_utf8.json\n"
     ]
    }
   ],
   "source": [
    "data_dir  = os.path.join(par_dir, \"data\")\n",
    "data_path = os.path.join(data_dir, \"test23k_processed_utf8.json\")\n",
    "print(\"data_path = \", data_path)"
   ]
  },
  {
   "cell_type": "code",
   "execution_count": 4,
   "metadata": {},
   "outputs": [
    {
     "name": "stdout",
     "output_type": "stream",
     "text": [
      "+---------------------------+------------------------------------------------------------------------------------------------------------------------------+\n",
      "|            name           |                                                           content                                                            |\n",
      "+---------------------------+------------------------------------------------------------------------------------------------------------------------------+\n",
      "|       original_text       |                    在一正方形花池的4周栽了44棵柳树，每两棵柳树之间的间隔是20米，这个正方形的周长=多少米？                    |\n",
      "|          num_list         |                                                         [44.0, 20.0]                                                         |\n",
      "|            text           | 在 一 正方形 花池 的 四周 栽 了 temp_a 棵 柳树 ， 每 两棵 柳树 之间 的 间隔 是 temp_b 米 ， 这个 正方形 的 周长 = 多少 米 ？ |\n",
      "|         new_split         |     在 一 正方形 花池 的 四周 栽 了 44 棵 柳树 ， 每 两棵 柳树 之间 的 间隔 是 20 米 ， 这个 正方形 的 周长 = 多少 米 ？     |\n",
      "|          equation         |                                                           x=44*20                                                            |\n",
      "|      target_template      |                                             ['x', '=', 'temp_a', '*', 'temp_b']                                              |\n",
      "|       segmented_text      |     在 一 正方形 花池 的 4 周 栽 了 44 棵 柳树 ， 每 两棵 柳树 之间 的 间隔 是 20 米 ， 这个 正方形 的 周长 = 多少 米 ？     |\n",
      "|          sni_text         |                   在一正方形花池的四周栽了44棵柳树，每两棵柳树之间的间隔是20米，这个正方形的周长=多少米？                    |\n",
      "|            ans            |                                                             880                                                              |\n",
      "|           answer          |                                                            880.0                                                             |\n",
      "| target_norm_post_template |                                             ['x', '=', 'temp_a', 'temp_b', '*']                                              |\n",
      "|             id            |                                                              35                                                              |\n",
      "|         group_num         |                                                 [12, 13, 14, 24, 25, 26, 27]                                                 |\n",
      "+---------------------------+------------------------------------------------------------------------------------------------------------------------------+\n"
     ]
    }
   ],
   "source": [
    "with open(data_path, mode=\"r\", encoding=\"utf-8\") as reader:\n",
    "    input_data = json.load(reader)\n",
    "    \n",
    "import prettytable as pt\n",
    "item0 = input_data[0]\n",
    "tb = pt.PrettyTable()\n",
    "tb.field_names = [\"name\", \"content\"]\n",
    "## 按行添加数据\n",
    "for key, value in item0.items():\n",
    "#     print(\"{}: {}\".format(key, value))\n",
    "#     print(\"%s : %s\" % (key, value))\n",
    "    tb.add_row([key, value])\n",
    "print(tb)"
   ]
  },
  {
   "cell_type": "code",
   "execution_count": null,
   "metadata": {},
   "outputs": [],
   "source": [
    "def prepare_data():\n",
    "    ...\n",
    "    for pair in pairs_trained:\n",
    "        num_stack = []\n",
    "        for word in pair[1]:  # output_seq\n",
    "            temp_num = []\n",
    "            flag_not = True\n",
    "            if word not in output_lang.index2word:  # output_vocab\n",
    "                flag_not = False\n",
    "                for i, j in enumerate(pair[2]):  # numbers\n",
    "                    if j == word:\n",
    "                        temp_num.append(i)\n",
    "\n",
    "            if not flag_not and len(temp_num) != 0:\n",
    "                num_stack.append(temp_num)\n",
    "            if not flag_not and len(temp_num) == 0:\n",
    "                num_stack.append([_ for _ in range(len(pair[2]))])\n",
    "\n",
    "        num_stack.reverse()\n",
    "        input_cell  = indexes_from_sentence(input_lang,  pair[0])\n",
    "        output_cell = indexes_from_sentence(output_lang, pair[1], tree)\n",
    "        train_pairs.append((input_cell,\n",
    "                            len(input_cell),\n",
    "                            output_cell,\n",
    "                            len(output_cell),\n",
    "                            pair[2],\n",
    "                            pair[3],\n",
    "                            num_stack,\n",
    "                            pair[4]))"
   ]
  },
  {
   "cell_type": "markdown",
   "metadata": {},
   "source": [
    "**pairs_trained:**  \n",
    "  \n",
    "|item|name|meaning|\n",
    "|:---:|:---:|:---:|\n",
    "| **pair\\[0\\]** | input\\_seq  | 分词后的单词序列  |\n",
    "| **pair\\[1\\]** | output\\_seq | 分词后的公式的前序表达式(ground\\_truth)  |\n",
    "| **pair\\[2\\]** | numbers    | 文本中提到的所有数字序列(number)  |\n",
    "| **pair\\[3\\]** | num\\_pos   | 数字在文本中的所有位置  |\n",
    "| **pair\\[4\\]** | group\\_num  | 与数字相关的所有单词信息(attribute)|"
   ]
  },
  {
   "cell_type": "markdown",
   "metadata": {},
   "source": [
    "**文本中的所有数字都被替换为NUM标识**  \n",
    "**num\\_stack**: 文本中的重复数字在数字序列中的位置 || 文本中无法识别的数字  \n",
    "  \n",
    "**num\\_stack example**  \n",
    "  \n",
    "|item|content|\n",
    "|:---:|:---:|\n",
    "| **pair\\[1\\]**    | \\['/', '*', 'N1', 'N2', '5'\\]|\n",
    "| **output\\_cell** | \\[3, 0, 8, 9, 22\\]|\n",
    "| **pair\\[2\\]**    | \\['5', '16.5', '2.1', '5'\\]|\n",
    "| **num\\_stack**   | \\[\\[0, 3\\]\\]|\n",
    "  \n",
    "**表示文本中的重复数字在公式中出现了一次**  \n",
    "  \n",
    "|item|content|\n",
    "|:---:|:---:|\n",
    "| **pair\\[1\\]**    | \\['/', '-', 'N2', '4', '4'\\]|\n",
    "| **output\\_cell** | \\[3, 1, 9, 22, 22\\] |\n",
    "| **pair\\[2\\]**    | \\['4', '1', '36', '4'\\]|\n",
    "| **num_stack**   | \\[\\[0, 3], [0, 3\\]\\]|\n",
    "  \n",
    "**表示文本中的重复数字在公式中出现了两次**"
   ]
  },
  {
   "cell_type": "code",
   "execution_count": 16,
   "metadata": {},
   "outputs": [
    {
     "name": "stdout",
     "output_type": "stream",
     "text": [
      "st =  2+3\n",
      "st =  +3\n",
      "st =  +\n",
      "res =  ['N0', '+', 'N1']\n"
     ]
    }
   ],
   "source": [
    "# 处理整数\n",
    "def seg_and_tag(st, nums, nums_fraction):  # seg the equation and tag the num\n",
    "    res = []\n",
    "    pos_st = re.search(\"\\d+\", st)\n",
    "\n",
    "    print(\"st = \", st)\n",
    "    # 该算法有点类似于二叉树的中序遍历\n",
    "    if pos_st:\n",
    "        # 找到数字的起始位置\n",
    "        p_start = pos_st.start()\n",
    "        p_end   = pos_st.end()\n",
    "        \n",
    "        # 如果数字前还存在字符串，则继续分割前一段字符串\n",
    "        if p_start > 0:\n",
    "            res += seg_and_tag(st[:p_start], nums, nums_fraction)\n",
    "\n",
    "        # 取出数字字符串\n",
    "        st_num = st[p_start:p_end]\n",
    "        # 如果文本中仅仅含有一个该数字st_num\n",
    "        if nums.count(st_num) == 1:\n",
    "            res.append(\"N\"+str(nums.index(st_num)))\n",
    "        # 如果文本中包含多个数字st_num\n",
    "        else:\n",
    "            res.append(st_num)\n",
    "\n",
    "        # 如果该数字之后还有字符串，则继续分割后一段字符串\n",
    "        if p_end < len(st):\n",
    "            res += seg_and_tag(st[p_end:], nums, nums_fraction)\n",
    "\n",
    "        return res\n",
    "\n",
    "    for ss in st:\n",
    "        res.append(ss)\n",
    "    return res\n",
    "\n",
    "st = \"2+3\"\n",
    "nums = ['2', '3']\n",
    "nums_fraction = []\n",
    "res = seg_and_tag(st, nums, nums_fraction)\n",
    "print(\"res = \", res)"
   ]
  },
  {
   "cell_type": "markdown",
   "metadata": {},
   "source": [
    "**处理整数公式:**  \n",
    "st=2+3  \n",
    "先找到数字2，并递归处理2左右两边的公式，st= 和 st=+3  \n",
    "再找到数字3，并递归处理3左右两边的公式, st=+ 和 st=  "
   ]
  },
  {
   "cell_type": "code",
   "execution_count": 19,
   "metadata": {},
   "outputs": [
    {
     "name": "stdout",
     "output_type": "stream",
     "text": [
      "st =  2.5+3.5\n",
      "st =  +3.5\n",
      "st =  +\n",
      "res =  ['N0', '+', 'N1']\n"
     ]
    }
   ],
   "source": [
    "# 处理小数\n",
    "def seg_and_tag(st, nums, nums_fraction):  # seg the equation and tag the num\n",
    "    res = []\n",
    "#     pos_st = re.search(\"\\d+\\.\\d+%?|\\d+%?\", st)\n",
    "    pos_st = re.search(\"\\d+\\.\\d+|\\d+\", st)\n",
    "\n",
    "    print(\"st = \", st)\n",
    "    # 该算法有点类似于二叉树的中序遍历\n",
    "    if pos_st:\n",
    "        # 找到数字的起始位置\n",
    "        p_start = pos_st.start()\n",
    "        p_end   = pos_st.end()\n",
    "        \n",
    "        # 如果数字前还存在字符串，则继续分割前一段字符串\n",
    "        if p_start > 0:\n",
    "            res += seg_and_tag(st[:p_start], nums, nums_fraction)\n",
    "\n",
    "        # 取出数字字符串\n",
    "        st_num = st[p_start:p_end]\n",
    "        # 如果文本中仅仅含有一个该数字st_num\n",
    "        if nums.count(st_num) == 1:\n",
    "            res.append(\"N\"+str(nums.index(st_num)))\n",
    "        # 如果文本中包含多个数字st_num\n",
    "        else:\n",
    "            res.append(st_num)\n",
    "\n",
    "        # 如果该数字之后还有字符串，则继续分割后一段字符串\n",
    "        if p_end < len(st):\n",
    "            res += seg_and_tag(st[p_end:], nums, nums_fraction)\n",
    "\n",
    "        return res\n",
    "\n",
    "    for ss in st:\n",
    "        res.append(ss)\n",
    "    return res\n",
    "\n",
    "st = \"2.5+3.5\"\n",
    "nums = ['2.5', '3.5']\n",
    "nums_fraction = []\n",
    "res = seg_and_tag(st, nums, nums_fraction)\n",
    "print(\"res = \", res)"
   ]
  },
  {
   "cell_type": "markdown",
   "metadata": {},
   "source": [
    "**处理小数公式:**  \n",
    "st=2.5+3.5  \n",
    "先找到数字2.5，并递归处理2.5左右两边的公式，st= 和 st=+3.5  \n",
    "再找到数字3.5，并递归处理3.5左右两边的公式, st=+ 和 st=   "
   ]
  },
  {
   "cell_type": "code",
   "execution_count": 30,
   "metadata": {},
   "outputs": [
    {
     "name": "stdout",
     "output_type": "stream",
     "text": [
      "st =  2.5%+3.5%\n",
      "st =  +3.5%\n",
      "st =  +\n",
      "res =  ['N0', '+', 'N1']\n"
     ]
    }
   ],
   "source": [
    "# 处理百分数\n",
    "def seg_and_tag(st, nums, nums_fraction):  # seg the equation and tag the num\n",
    "    res = []\n",
    "    rule = \"\\d+\\.\\d+%\" + \"|\" + \"\\d+%\" + \"|\" + \"\\d+\\.\\d+\" + \"|\" + \"\\d+\"\n",
    "    pos_st = re.search(rule, st)\n",
    "\n",
    "    print(\"st = \", st)\n",
    "    # 该算法有点类似于二叉树的中序遍历\n",
    "    if pos_st:\n",
    "        # 找到数字的起始位置\n",
    "        p_start = pos_st.start()\n",
    "        p_end   = pos_st.end()\n",
    "        \n",
    "        # 如果数字前还存在字符串，则继续分割前一段字符串\n",
    "        if p_start > 0:\n",
    "            res += seg_and_tag(st[:p_start], nums, nums_fraction)\n",
    "\n",
    "        # 取出数字字符串\n",
    "        st_num = st[p_start:p_end]\n",
    "        # 如果文本中仅仅含有一个该数字st_num\n",
    "        if nums.count(st_num) == 1:\n",
    "            res.append(\"N\"+str(nums.index(st_num)))\n",
    "        # 如果文本中包含多个数字st_num\n",
    "        else:\n",
    "            res.append(st_num)\n",
    "\n",
    "        # 如果该数字之后还有字符串，则继续分割后一段字符串\n",
    "        if p_end < len(st):\n",
    "            res += seg_and_tag(st[p_end:], nums, nums_fraction)\n",
    "\n",
    "        return res\n",
    "\n",
    "    for ss in st:\n",
    "        res.append(ss)\n",
    "    return res\n",
    "\n",
    "st = \"2.5%+3.5%\"\n",
    "nums = ['2.5%', '3.5%']\n",
    "nums_fraction = []\n",
    "res = seg_and_tag(st, nums, nums_fraction)\n",
    "print(\"res = \", res)"
   ]
  },
  {
   "cell_type": "markdown",
   "metadata": {},
   "source": [
    "**处理百分数公式:**  \n",
    "st=2.5\\%+3.5\\%  \n",
    "先找到数字2.5\\%，并递归处理2.5\\%左右两边的公式，st= 和 st=+3.5\\%  \n",
    "再找到数字3.5\\%，并递归处理3.5\\%左右两边的公式, st=+ 和 st= "
   ]
  },
  {
   "cell_type": "code",
   "execution_count": 37,
   "metadata": {},
   "outputs": [
    {
     "name": "stdout",
     "output_type": "stream",
     "text": [
      "st =  (2/5)+(3/5)\n",
      "st =  +(3/5)\n",
      "st =  +\n",
      "res =  ['N0', '+', 'N1']\n"
     ]
    }
   ],
   "source": [
    "# 处理分数\n",
    "def seg_and_tag(st, nums, nums_fraction):  # seg the equation and tag the num\n",
    "    # 文本中出现的分数\n",
    "    nums_fraction = []\n",
    "    for num in nums:\n",
    "        if re.search(\"\\d*\\(\\d+/\\d+\\)\\d*\", num):\n",
    "            nums_fraction.append(num)\n",
    "    nums_fraction = sorted(nums_fraction, key=lambda x: len(x), reverse=True)\n",
    "\n",
    "    print(\"st = \", st)\n",
    "    res = []\n",
    "    for n in nums_fraction:\n",
    "        if n in st:\n",
    "            p_start = st.find(n)\n",
    "            p_end   = p_start + len(n)\n",
    "            \n",
    "            if p_start > 0:\n",
    "                res += seg_and_tag(st[:p_start], nums, nums_fraction)\n",
    "        \n",
    "            if nums.count(n) == 1:\n",
    "                res.append(\"N\"+str(nums.index(n)))\n",
    "            else:\n",
    "                res.append(n)\n",
    "            \n",
    "            if p_end < len(st):\n",
    "                res += seg_and_tag(st[p_end:], nums, nums_fraction)\n",
    "            \n",
    "            return res\n",
    "\n",
    "    for ss in st:\n",
    "        res.append(ss)\n",
    "    return res\n",
    "\n",
    "st = \"(2/5)+(3/5)\"\n",
    "nums = ['(2/5)', '(3/5)']\n",
    "nums_fraction = []\n",
    "res = seg_and_tag(st, nums, nums_fraction)\n",
    "print(\"res = \", res)"
   ]
  },
  {
   "cell_type": "markdown",
   "metadata": {},
   "source": [
    "**处理分数公式:**  \n",
    "st=2/5+3/5  \n",
    "先找到数字2/5，并递归处理2/5左右两边的公式，st= 和 st=+3/5  \n",
    "再找到数字3/5，并递归处理3/5左右两边的公式, st=+ 和 st=   "
   ]
  },
  {
   "cell_type": "markdown",
   "metadata": {},
   "source": [
    "**train_pairs:**  \n",
    "\n",
    "|item|content|\n",
    "|:---:|:---|\n",
    "| **pair\\[0\\]**| \\['小', '芳', '家', 'NUM', '月份', '用水量', '是', 'NUM', '吨', '，', '每吨', '水', '的', '价格', '是', 'NUM', '元', '，', '小', '芳', '家', '一共', '有', 'NUM', '口', '人', '，', '平均', '每人', '应交', '多少', '水费', '？'\\] |\n",
    "| **input\\_cell**| \\[68, 178, 179, 1, 86, 2, 71, 1, 180, 26, 181, 182, 6, 183, 71, 1, 184, 26, 68, 178, 179, 29, 118, 1, 185, 85, 26, 186, 187, 188, 34, 189, 52\\] |\n",
    "| **len(input\\_cell)** | 33 |\n",
    "| **pair\\[1\\]** | \\['/', '*', 'N1', 'N2', '5' \\] |\n",
    "| **pair\\[1\\]** | \\['/', '*', 'N1', 'N2', 'UNK'\\] |\n",
    "| **output\\_cell** | \\[3, 0, 8, 9, 22\\] |\n",
    "| **len(output\\_cell)** | 5 |\n",
    "| **pair\\[2\\]** | \\['5', '16.5', '2.1', '5'\\]|\n",
    "| **pair\\[3\\]** | \\[3, 7, 15, 23\\] |\n",
    "| **pair\\[4\\]** | \\[3, 4, 5, 4, 5, 7, 17, 18, 19, 22, 23, 24, 25\\] |\n",
    "| **num\\_stack** | \\[\\[0, 3\\]\\] |  \n",
    "  \n",
    "**当出现重复数字时，将output\\_seq中相应的数字位置设置为UNK**"
   ]
  },
  {
   "cell_type": "code",
   "execution_count": null,
   "metadata": {},
   "outputs": [],
   "source": [
    "import re\n",
    "def transfer_num(data):\n",
    "    print(\"test transfer_num function\")\n",
    "    print(\"Transfer numbers...\")\n",
    "    print(\"\\n\")\n",
    "    pattern = re.compile(\"\\d*\\(\\d+/\\d+\\)\\d*|\\d+\\.\\d+%?|\\d+%?\")  # 匹配文本中的所有数字\n",
    "\n",
    "    pairs = []\n",
    "    generate_nums = []\n",
    "    generate_nums_dict = {}\n",
    "    copy_nums = 0\n",
    "    for d in data:\n",
    "        nums = []\n",
    "        input_seq = []\n",
    "\n",
    "        seg       = d[\"segmented_text\"].strip().split(\" \")\n",
    "        equations = d[\"equation\"][2:]  # remove \"x=\"\n",
    "        \n",
    "        print(\"debug segmented_text\")\n",
    "        print(\"segmented_text = \", d[\"segmented_text\"])\n",
    "        print(\"seg = \", seg)\n",
    "        print(\"\\n\")\n",
    "        \n",
    "        print(\"debug equation\")\n",
    "        print(\"equation = \", d[\"equation\"])\n",
    "        print(\"equations = \", equations)\n",
    "        print(\"\\n\")\n",
    "        \n",
    "        for s in seg:\n",
    "            pos = re.search(pattern, s)\n",
    "            if pos and pos.start() == 0:\n",
    "                nums.append(s[pos.start(): pos.end()])\n",
    "                input_seq.append(\"NUM\")\n",
    "                if pos.end() < len(s):\n",
    "                    input_seq.append(s[pos.end():])\n",
    "            else:\n",
    "                input_seq.append(s)\n",
    "        \n",
    "        print(\"debug input_seq\")\n",
    "        # 文本中的所有数字都被替换为NUM标识\n",
    "        print(\"input_seq = \", input_seq)\n",
    "        print(\"\\n\")\n",
    "        \n",
    "        print(\"debug nums\")\n",
    "        print(\"nums = \", nums)  # 文本中出现的数字\n",
    "        print(\"\\n\")\n",
    "        \n",
    "        if copy_nums < len(nums):\n",
    "            copy_nums = len(nums)  # 文本中出现的数字个数\n",
    "\n",
    "        nums_fraction = []\n",
    "        for num in nums:\n",
    "            if re.search(\"\\d*\\(\\d+/\\d+\\)\\d*\", num):\n",
    "                nums_fraction.append(num)\n",
    "        nums_fraction = sorted(nums_fraction, key=lambda x: len(x), reverse=True)\n",
    "\n",
    "        print(\"debug nums_fraction\")\n",
    "        print(\"nums_fraction = \", nums_fraction)  # 文本中出现的分数\n",
    "        print(\"\\n\")\n",
    "        \n",
    "        out_seq = seg_and_tag(st=equations, nums=nums, nums_fraction=nums_fraction)\n",
    "        for s in out_seq:  # tag the num which is generated\n",
    "            if s[0].isdigit() and s not in generate_nums and s not in nums:\n",
    "                generate_nums.append(s)\n",
    "                generate_nums_dict[s] = 0\n",
    "            if s in generate_nums and s not in nums:\n",
    "                generate_nums_dict[s] = generate_nums_dict[s] + 1\n",
    "\n",
    "        print(\"debug generate_nums_dict\")\n",
    "        print(\"out_seq = \", out_seq)\n",
    "        print(\"generate_nums_dict = \", generate_nums_dict)  # 常数字典\n",
    "        print(\"\\n\")\n",
    "        \n",
    "        num_pos = []\n",
    "        for i, j in enumerate(input_seq):\n",
    "            if j == \"NUM\":\n",
    "                num_pos.append(i)\n",
    "        assert len(nums) == len(num_pos)\n",
    "        \n",
    "        print(\"debug num_pos\")\n",
    "        print(\"num_pos = \", num_pos)\n",
    "        print(\"\\n\")\n",
    "        \n",
    "        pairs.append((input_seq, out_seq, nums, num_pos))\n",
    "    \n",
    "    temp_g = []\n",
    "    for g in generate_nums:\n",
    "        if generate_nums_dict[g] >= 5:\n",
    "            temp_g.append(g)\n",
    "    print(\"debug temp_g\")\n",
    "    print(\"temp_g = \", temp_g)\n",
    "    print(\"copy_nums = \", copy_nums)\n",
    "    print(\"\\n\")\n",
    "    return pairs, temp_g, copy_nums\n",
    "\n",
    "test_data = input_data[:1]\n",
    "pairs, generate_nums, copy_nums = transfer_num(test_data)"
   ]
  },
  {
   "cell_type": "markdown",
   "metadata": {},
   "source": [
    "**pairs:**  \n",
    "  \n",
    "|item|description|content|\n",
    "|:---:|:----:|:---|\n",
    "| **p\\[0\\]** | input\\_seq | \\['在', '一', '正方形', '花池', '的', 'NUM', '周', '栽', '了', 'NUM', '棵', '柳树', '，', '每', '两棵', '柳树', '之间', '的', '间隔', '是', 'NUM', '米', '，', '这个', '正方形', '的', '周长', '=', '多少', '米', '？'\\] |\n",
    "| **p\\[1\\]** | output\\_seq | \\['N1', '*', 'N2'\\] |\n",
    "| **p\\[2\\]** | numbers value in text | \\['4', '44', '20'\\] |\n",
    "| **p\\[3\\]** | numbers position in text | \\[5, 9, 20\\] |  \n",
    "  \n",
    "**generate_nums:**  \n",
    "&emsp;&emsp;数据集中的所有常数=\\['1', '3.14'\\]  \n",
    "  \n",
    "**copy_nums:**  \n",
    "&emsp;&emsp;文本中最多出现的数字个数=15  "
   ]
  },
  {
   "cell_type": "code",
   "execution_count": null,
   "metadata": {},
   "outputs": [],
   "source": [
    "def get_single_batch_graph(input_batch, input_length, group, num_value, num_pos):\n",
    "    batch_graph = []\n",
    "    max_len = max(input_length)\n",
    "    for i in range(len(input_length)):\n",
    "        input_batch_t      = input_batch[i]\n",
    "        sentence_length    = input_length[i]\n",
    "        quantity_cell_list = group[i]\n",
    "        num_list           = num_value[i]\n",
    "        id_num_list        = num_pos[i]"
   ]
  },
  {
   "cell_type": "markdown",
   "metadata": {},
   "source": [
    "  \n",
    "|name|description|content|\n",
    "|:---:|:---|:---|\n",
    "| **input_batch_t** |原始位置中的单词在词典中的索引 | \\[545, 65, 149, 42, 286, 423, 628, 287, 423, 26, 154, 65, 58, 59, 114, 1, 61, 26, 157, 65, 58, 59, 114, 1, 61, 13, 398, 157, 65, 91, 154, 65, 881, 1, 61, 112, 26, 154, 65, 367, 114, 23, 295, 6, 1, 13, 801, 286, 423, 8, 287, 423, 6, 430, 13\\]  |\n",
    "| **sentence_length** | 原始文本中的单词个数 | 55 |\n",
    "| **quantity_cell_list** | 原始文本中与数字相关的所有单词信息 | \\[14, 15, 16, 22, 23, 24, 25, 30, 31, 32, 33, 41, 42, 43, 44 \\] |\n",
    "| **num_list** | 原始文本中的所有数字 | \\['80', '120', '200', '40%'\\] |\n",
    "| **num_pos** | 原始文本中的数字在文本中的位置 | \\[15, 23, 33, 44\\] |"
   ]
  },
  {
   "cell_type": "code",
   "execution_count": null,
   "metadata": {},
   "outputs": [],
   "source": []
  }
 ],
 "metadata": {
  "kernelspec": {
   "display_name": "Python 3",
   "language": "python",
   "name": "python3"
  },
  "language_info": {
   "codemirror_mode": {
    "name": "ipython",
    "version": 3
   },
   "file_extension": ".py",
   "mimetype": "text/x-python",
   "name": "python",
   "nbconvert_exporter": "python",
   "pygments_lexer": "ipython3",
   "version": "3.7.6"
  }
 },
 "nbformat": 4,
 "nbformat_minor": 4
}
