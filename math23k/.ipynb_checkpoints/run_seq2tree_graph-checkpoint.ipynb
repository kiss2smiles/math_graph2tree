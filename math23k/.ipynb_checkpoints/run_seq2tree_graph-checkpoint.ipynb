{
 "cells": [
  {
   "cell_type": "code",
   "execution_count": 1,
   "metadata": {},
   "outputs": [
    {
     "name": "stdout",
     "output_type": "stream",
     "text": [
      "cur_dir =  C:\\Users\\90311\\Documents\\code\\MWP\\math_graph2tree\\math23k\\src\n",
      "par_dir =  C:\\Users\\90311\\Documents\\code\\MWP\\math_graph2tree\\math23k\n",
      "gra_dir =  C:\\Users\\90311\\Documents\\code\\MWP\\math_graph2tree\n"
     ]
    }
   ],
   "source": [
    "import json\n",
    "import os\n",
    "import sys\n",
    "\n",
    "cur_path = os.path.abspath('__file__')\n",
    "cur_dir  = os.path.dirname(cur_path)\n",
    "par_dir  = os.path.dirname(cur_dir)\n",
    "gra_dir  = os.path.dirname(par_dir)\n",
    "sys.path.append(cur_dir)\n",
    "sys.path.append(par_dir)\n",
    "sys.path.append(gra_dir)\n",
    "\n",
    "print(\"cur_dir = \", cur_dir)\n",
    "print(\"par_dir = \", par_dir)\n",
    "print(\"gra_dir = \", gra_dir)"
   ]
  },
  {
   "cell_type": "code",
   "execution_count": 2,
   "metadata": {},
   "outputs": [
    {
     "name": "stdout",
     "output_type": "stream",
     "text": [
      "data_path =  C:\\Users\\90311\\Documents\\code\\MWP\\math_graph2tree\\math23k\\data\\test23k_processed_utf8.json\n"
     ]
    }
   ],
   "source": [
    "data_dir  = os.path.join(par_dir, \"data\")\n",
    "data_path = os.path.join(data_dir, \"test23k_processed_utf8.json\")\n",
    "print(\"data_path = \", data_path)\n",
    "with open(data_path, mode=\"r\", encoding=\"utf-8\") as reader:\n",
    "    input_data = json.load(reader)"
   ]
  },
  {
   "cell_type": "code",
   "execution_count": 4,
   "metadata": {},
   "outputs": [
    {
     "name": "stdout",
     "output_type": "stream",
     "text": [
      "Transfer numbers...\n"
     ]
    }
   ],
   "source": [
    "import json\n",
    "import os\n",
    "import sys\n",
    "\n",
    "cur_path = os.path.abspath('__file__')\n",
    "cur_dir  = os.path.dirname(cur_path)\n",
    "par_dir  = os.path.dirname(cur_dir)\n",
    "gra_dir  = os.path.dirname(par_dir)\n",
    "sys.path.append(cur_dir)\n",
    "sys.path.append(par_dir)\n",
    "sys.path.append(gra_dir)\n",
    "\n",
    "from src.pre_data import transfer_num\n",
    "test_data = input_data[:1]\n",
    "pairs, generate_nums, copy_nums = transfer_num(test_data)"
   ]
  },
  {
   "cell_type": "code",
   "execution_count": 5,
   "metadata": {},
   "outputs": [
    {
     "name": "stdout",
     "output_type": "stream",
     "text": [
      "infix =  ['N1', '*', 'N2']\n",
      "prefix =  ['*', 'N1', 'N2']\n"
     ]
    }
   ],
   "source": [
    "import os\n",
    "import sys\n",
    "\n",
    "cur_path = os.path.abspath('__file__')\n",
    "cur_dir  = os.path.dirname(cur_path)\n",
    "par_dir  = os.path.dirname(cur_dir)\n",
    "gra_dir  = os.path.dirname(par_dir)\n",
    "sys.path.append(cur_dir)\n",
    "sys.path.append(par_dir)\n",
    "sys.path.append(gra_dir)\n",
    "\n",
    "from src.expressions_transfer import from_infix_to_prefix\n",
    "\n",
    "temp_pairs = []\n",
    "for p in pairs:\n",
    "    infix = p[1]\n",
    "    prefix = from_infix_to_prefix(p[1])\n",
    "    print(\"infix = \", infix)\n",
    "    print(\"prefix = \", prefix)\n",
    "    temp_pairs.append((p[0], prefix, p[2], p[3]))"
   ]
  },
  {
   "cell_type": "code",
   "execution_count": 2,
   "metadata": {},
   "outputs": [
    {
     "data": {
      "text/plain": [
       "{'*': 0,\n",
       " '-': 1,\n",
       " '+': 2,\n",
       " '/': 3,\n",
       " '^': 4,\n",
       " '1': 5,\n",
       " '3.14': 6,\n",
       " 'N0': 7,\n",
       " 'N1': 8,\n",
       " 'N2': 9,\n",
       " 'N3': 10,\n",
       " 'N4': 11,\n",
       " 'N5': 12,\n",
       " 'N6': 13,\n",
       " 'N7': 14,\n",
       " 'N8': 15,\n",
       " 'N9': 16,\n",
       " 'N10': 17,\n",
       " 'N11': 18,\n",
       " 'N12': 19,\n",
       " 'N13': 20,\n",
       " 'N14': 21,\n",
       " 'UNK': 22}"
      ]
     },
     "execution_count": 2,
     "metadata": {},
     "output_type": "execute_result"
    }
   ],
   "source": [
    "# output_vocab:\n",
    "{\n",
    "    '*': 0, '-': 1, '+': 2, '/': 3, '^': 4,\n",
    "    '1': 5, '3.14': 6,\n",
    "    'N0': 7,  'N1': 8,  'N2':  9,  'N3':  10, 'N4':  11, 'N5':  12, 'N6':  13, 'N7': 14,\n",
    "    'N8': 15, 'N9': 16, 'N10': 17, 'N11': 18, 'N12': 19, 'N13': 20, 'N14': 21,\n",
    "    'UNK': 22\n",
    "}"
   ]
  },
  {
   "cell_type": "code",
   "execution_count": null,
   "metadata": {},
   "outputs": [],
   "source": []
  }
 ],
 "metadata": {
  "kernelspec": {
   "display_name": "Python 3",
   "language": "python",
   "name": "python3"
  },
  "language_info": {
   "codemirror_mode": {
    "name": "ipython",
    "version": 3
   },
   "file_extension": ".py",
   "mimetype": "text/x-python",
   "name": "python",
   "nbconvert_exporter": "python",
   "pygments_lexer": "ipython3",
   "version": "3.7.6"
  }
 },
 "nbformat": 4,
 "nbformat_minor": 4
}
