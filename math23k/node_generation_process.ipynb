{
 "cells": [
  {
   "cell_type": "markdown",
   "metadata": {},
   "source": [
    "## Graph2Tree中节点的生成过程\n",
    "\n",
    "#### 前序表达式\n",
    "\n",
    "```bash\n",
    "[0, 3, 1, 9,  8,  1, 5, 7,  1, 5, 10]\n",
    "[*, /, -, N2, N1, -, 1, N0, -, 1, N3]\n",
    "```\n",
    "\n",
    "![exp_tree](material/exp_tree.png)\n",
    "\n",
    "![sub_tree_emb](material/sub_tree_emb.png)"
   ]
  },
  {
   "cell_type": "markdown",
   "metadata": {},
   "source": [
    "#### sub-tree embedding的生成过程"
   ]
  },
  {
   "cell_type": "markdown",
   "metadata": {},
   "source": [
    "##### (1) $t_{1}(operator)$ \n",
    "\n",
    "![t1_output](./material/t1.png)\n",
    "\n",
    "##### $left\\_childs$\n",
    "\n",
    "![t1_left_childs](./material/t1_l.png)"
   ]
  },
  {
   "cell_type": "markdown",
   "metadata": {},
   "source": [
    "##### (2) $t_{2}(operator)$\n",
    "\n",
    "![t2_output](material/t2.png)\n",
    "\n",
    "##### $left\\_childs$\n",
    "\n",
    "![t2_left_childs](material/t2_l.png)"
   ]
  },
  {
   "cell_type": "markdown",
   "metadata": {},
   "source": [
    "##### (3) $t_{3}(operator)$\n",
    "\n",
    "![t3_output](material/t3.png)\n",
    "\n",
    "##### $left\\_childs$\n",
    "\n",
    "![t3_left_childs](material/t3_l.png)"
   ]
  },
  {
   "cell_type": "markdown",
   "metadata": {},
   "source": [
    "##### (4) $t_{4}(number)$\n",
    "\n",
    "![t4_output](material/t4.png)\n",
    "\n",
    "##### $left\\_childs$\n",
    "\n",
    "![t4_left_childs](material/t4_l.png)"
   ]
  },
  {
   "cell_type": "markdown",
   "metadata": {},
   "source": [
    "##### (5) $t_{5}(number)$\n",
    "\n",
    "![t5_output](material/t5.png)\n",
    "\n",
    "##### $left\\_childs$\n",
    "\n",
    "![t5_left_childs](material/t5_l.png)"
   ]
  },
  {
   "cell_type": "markdown",
   "metadata": {},
   "source": [
    "##### (6) $t_{6}(operator)$\n",
    "\n",
    "![t6_output](material/t6.png)\n",
    "\n",
    "##### $left\\_childs$\n",
    "\n",
    "![t6_left_childs](material/t6_l.png)"
   ]
  },
  {
   "cell_type": "markdown",
   "metadata": {},
   "source": [
    "##### (7) $t_{7}(number)$\n",
    "\n",
    "![t7_output](material/t7.png)\n",
    "\n",
    "##### $left\\_childs$\n",
    "\n",
    "![t7_left_childs](material/t7_l.png)"
   ]
  },
  {
   "cell_type": "markdown",
   "metadata": {},
   "source": [
    "##### (8) $t_{8}(number)$\n",
    "\n",
    "![t8_output](material/t8.png)\n",
    "\n",
    "##### $left\\_childs$\n",
    "\n",
    "![t8_left_childs](material/t8_l.png)"
   ]
  },
  {
   "cell_type": "markdown",
   "metadata": {},
   "source": [
    "##### (9) $t_{9}(operator)$\n",
    "\n",
    "![t9_output](material/t9.png)\n",
    "\n",
    "##### $left\\_childs$\n",
    "\n",
    "![t9_left_childs](material/t9_l.png)"
   ]
  },
  {
   "cell_type": "markdown",
   "metadata": {},
   "source": [
    "##### (10) $t_{10}(number)$\n",
    "\n",
    "![t10_output](material/t10.png)\n",
    "\n",
    "##### $left\\_childs$\n",
    "\n",
    "![t10_left_childs](material/t10_l.png)"
   ]
  },
  {
   "cell_type": "markdown",
   "metadata": {},
   "source": [
    "##### (11) $t_{11}(number)$\n",
    "\n",
    "![t11_output](material/t11.png)\n",
    "\n",
    "##### $left\\_childs$\n",
    "\n",
    "![t11_left_childs](material/t11_l.png)"
   ]
  }
 ],
 "metadata": {
  "kernelspec": {
   "display_name": "Python 3",
   "language": "python",
   "name": "python3"
  },
  "language_info": {
   "codemirror_mode": {
    "name": "ipython",
    "version": 3
   },
   "file_extension": ".py",
   "mimetype": "text/x-python",
   "name": "python",
   "nbconvert_exporter": "python",
   "pygments_lexer": "ipython3",
   "version": "3.7.6"
  }
 },
 "nbformat": 4,
 "nbformat_minor": 4
}
